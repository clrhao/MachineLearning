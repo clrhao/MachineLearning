{
 "cells": [
  {
   "metadata": {},
   "cell_type": "markdown",
   "source": [
    "# 决策树\n",
    "\n",
    "## 实验要求\n",
    "- 基本要求\n",
    "    1. 基于 Watermelon-train1数据集（只有离散属性），构造ID3决策树；\n",
    "    2. 基于构造的 ID3 决策树，对数据集 Watermelon-test1进行预测，输出分类精度；\n",
    "- 中级要求\n",
    "    1. 对数据集Watermelon-train2，构造C4.5或者CART决策树，要求可以处理连续型属性；\n",
    "    2. 对测试集Watermelon-test2进行预测，输出分类精度；\n"
   ]
  },
  {
   "cell_type": "code",
   "metadata": {
    "ExecuteTime": {
     "end_time": "2025-03-08T00:52:41.864406Z",
     "start_time": "2025-03-08T00:52:41.840859Z"
    }
   },
   "source": [
    "import numpy as np \n",
    "import pandas as pd\n",
    "import math\n",
    "import copy\n",
    "def readfile(name):\n",
    "    df = pd.read_csv(name, encoding='gbk', on_bad_lines='skip')\n",
    "    temp = np.array(df).tolist()\n",
    "    for i in temp:\n",
    "        i.pop(0)\n",
    "    return temp\n",
    "\n",
    "train1 = readfile(\"Watermelon-train1.csv\")\n",
    "train2 = readfile(\"Watermelon-train2.csv\")\n",
    "test1 = readfile(\"Watermelon-test1.csv\")\n",
    "test2 = readfile(\"Watermelon-test2.csv\")"
   ],
   "outputs": [],
   "execution_count": 2
  },
  {
   "cell_type": "code",
   "metadata": {
    "ExecuteTime": {
     "end_time": "2025-03-08T00:52:45.356247Z",
     "start_time": "2025-03-08T00:52:45.353185Z"
    }
   },
   "source": [
    "def information(data):\n",
    "    dic = {}\n",
    "    for i in data:\n",
    "        current = i[-1] #取出最后的结果\n",
    "        if current not in dic.keys(): \n",
    "            dic[current] = 1 #创建一个新的类别\n",
    "        else:\n",
    "            dic[current] += 1 #原有类别+1\n",
    "    result = 0.0\n",
    "    for key in dic:\n",
    "        prob = float(dic[key]) / len(data)\n",
    "        result -= prob * math.log(prob,2) \n",
    "    return result, dic"
   ],
   "outputs": [],
   "execution_count": 3
  },
  {
   "cell_type": "code",
   "metadata": {
    "ExecuteTime": {
     "end_time": "2025-03-08T00:52:47.955581Z",
     "start_time": "2025-03-08T00:52:47.952441Z"
    }
   },
   "source": [
    "def split(data, index, kind):\n",
    "    ls = []\n",
    "    for temp in data:\n",
    "        if temp[index] == kind:\n",
    "            t = temp[0: index]\n",
    "            t = t + temp[index + 1: ]\n",
    "            ls.append(t)\n",
    "    return ls"
   ],
   "outputs": [],
   "execution_count": 4
  },
  {
   "cell_type": "code",
   "metadata": {
    "ExecuteTime": {
     "end_time": "2025-03-08T00:52:50.563124Z",
     "start_time": "2025-03-08T00:52:50.559498Z"
    }
   },
   "source": [
    "def chooseBestFeatureToSplit(data):\n",
    "    base, mm= information(data) #原始的信息熵\n",
    "    best = 0\n",
    "    bestindex = -1\n",
    "    for i in range(len(data[0]) - 1):\n",
    "        #抽取所有信息\n",
    "        ls = [index[i] for index in data]\n",
    "        feture = set(ls) \n",
    "        #计算信息增益\n",
    "        temp = 0.0\n",
    "        for value in feture:\n",
    "            datatemp = split(data, i, value)\n",
    "            prob = len(datatemp) / float(len(data))\n",
    "            t, mm = information(datatemp)\n",
    "            temp += prob * t\n",
    "        infoGain = base - temp\n",
    "        #根据信息增益挑选 \n",
    "        if infoGain > best:\n",
    "            best = infoGain\n",
    "            bestindex = i\n",
    "    return bestindex"
   ],
   "outputs": [],
   "execution_count": 5
  },
  {
   "cell_type": "code",
   "metadata": {
    "ExecuteTime": {
     "end_time": "2025-03-08T00:52:54.038819Z",
     "start_time": "2025-03-08T00:52:54.034205Z"
    }
   },
   "source": [
    "def classify1(data, labels):\n",
    "    typelist = [index[-1] for index in data] #取出该数据集的分类\n",
    "    nothing, typecount = information(data) #计算出类别种类以及数量\n",
    "    if len(typecount) == 1: #如果只有一个类别\n",
    "        return typelist[0]\n",
    "    bestindex = chooseBestFeatureToSplit(data)  # 最优划分属性的索引\n",
    "    bestlabel = labels[bestindex]\n",
    "    Tree = {bestlabel: {}}\n",
    "    temp = labels[:]\n",
    "    del (temp[bestindex])  # 已经选择的特征不再参与分类，将该类别删除\n",
    "    feature = [example[bestindex] for example in data]\n",
    "    unique = set(feature)  # 该属性所有可能取值，也就是节点的分支\n",
    "    for i in unique:  \n",
    "        temp = temp[:] \n",
    "        Tree[bestlabel][i] = classify1(split(data, bestindex, i), temp)\n",
    "    return Tree"
   ],
   "outputs": [],
   "execution_count": 6
  },
  {
   "cell_type": "code",
   "metadata": {
    "ExecuteTime": {
     "end_time": "2025-03-08T00:52:57.501350Z",
     "start_time": "2025-03-08T00:52:57.495244Z"
    }
   },
   "source": [
    "def run1(testdata, tree, labels):\n",
    "    firstStr = list(tree.keys())[0]\n",
    "    secondDict = tree[firstStr]\n",
    "    featIndex = labels.index(firstStr)\n",
    "    result = ''\n",
    "    for key in list(secondDict.keys()): \n",
    "         if testdata[featIndex] == key:\n",
    "            if type(secondDict[key]).__name__ == 'dict':  # 该分支不是叶子节点，递归\n",
    "                result = run1(testdata, secondDict[key], labels)\n",
    "            else:\n",
    "                result = secondDict[key]\n",
    "    return result\n",
    "\n",
    "def getresult(train, test, labels):\n",
    "    ls = []\n",
    "    tree = classify1(train, labels)\n",
    "    print(\"生成决策树如下:\", tree)\n",
    "    for index in test:\n",
    "        ls.append(run1(index, tree, labels))\n",
    "    return ls\n",
    "\n",
    "labels1 = ['色泽', '根蒂', '敲声', '纹理', '好瓜']\n",
    "result1 = getresult(train1, test1, labels1)"
   ],
   "outputs": [
    {
     "name": "stdout",
     "output_type": "stream",
     "text": [
      "生成决策树如下: {'纹理': {'稍糊': {'色泽': {'乌黑': {'敲声': {'浊响': '是', '沉闷': '否'}}, '浅白': '否', '青绿': '否'}}, '清晰': {'根蒂': {'硬挺': '否', '蜷缩': '是', '稍蜷': '是'}}, '模糊': '否'}}\n"
     ]
    }
   ],
   "execution_count": 7
  },
  {
   "cell_type": "code",
   "metadata": {
    "ExecuteTime": {
     "end_time": "2025-03-08T08:33:15.875478Z",
     "start_time": "2025-03-08T08:33:15.871398Z"
    }
   },
   "source": [
    "def simrate(data, predict):\n",
    "    num = 0\n",
    "    for i in range(len(data)):\n",
    "        if data[i][-1] == predict[i]:\n",
    "            num +=1\n",
    "    return format(num / len(data), '.2%')\n",
    "print(\"ID3分类器对于test1数据集的准确率是：\", simrate(test1, result1))"
   ],
   "outputs": [
    {
     "name": "stdout",
     "output_type": "stream",
     "text": [
      "ID3分类器对于test1数据集的准确率是： 70.00%\n"
     ]
    }
   ],
   "execution_count": 16
  },
  {
   "cell_type": "code",
   "metadata": {
    "ExecuteTime": {
     "end_time": "2025-03-08T08:33:11.840944Z",
     "start_time": "2025-03-08T08:33:11.838078Z"
    }
   },
   "source": [
    "def Division(data):\n",
    "    ls = data[:]\n",
    "    ls.sort()\n",
    "    result = []\n",
    "    for i in range(len(ls) - 1):\n",
    "        result.append((data[i + 1] + data[i]) / 2)\n",
    "    return result"
   ],
   "outputs": [],
   "execution_count": 15
  },
  {
   "cell_type": "code",
   "metadata": {
    "ExecuteTime": {
     "end_time": "2025-03-08T08:33:09.970534Z",
     "start_time": "2025-03-08T08:33:09.964268Z"
    }
   },
   "source": [
    "def split2(data, index, kind, method):\n",
    "    ls = []\n",
    "    if method == 0:\n",
    "        for temp in data:\n",
    "            if temp[index] <= kind:\n",
    "                t = temp[0 : index]\n",
    "                t = t + temp[index + 1 : ]\n",
    "                ls.append(t)\n",
    "    else:\n",
    "        for temp in data:\n",
    "            if temp[index] > kind:\n",
    "                t = temp[0 : index]\n",
    "                t = t + temp[index + 1 : ]\n",
    "                ls.append(t)\n",
    "    return ls"
   ],
   "outputs": [],
   "execution_count": 14
  },
  {
   "cell_type": "code",
   "metadata": {
    "ExecuteTime": {
     "end_time": "2025-03-08T08:32:54.858699Z",
     "start_time": "2025-03-08T08:32:54.851441Z"
    }
   },
   "source": [
    "def chooseBestFeatureToSplit2(data):\n",
    "    base, mm= information(data) #原始的信息熵\n",
    "    info = []\n",
    "    for j in range(len(data[0]) - 1):\n",
    "        dic = {}\n",
    "        for i in data:\n",
    "            current = i[j] #取出最后的结果\n",
    "            if current not in dic.keys(): \n",
    "                dic[current] = 1 #创建一个新的类别\n",
    "            else:\n",
    "                dic[current] += 1 #原有类别+1\n",
    "        result = 0.0\n",
    "        for key in dic:\n",
    "            prob = float(dic[key]) / len(data)\n",
    "            result -= prob * math.log(prob,2) \n",
    "        info.append(result)\n",
    "    best = 0\n",
    "    bestindex = -1\n",
    "    bestpartvalue = None #如果是离散值，使用该值进行分割\n",
    "    for i in range(len(data[0]) - 1):\n",
    "        #抽取该列数据的所有信息\n",
    "        ls = [index[i] for index in data]\n",
    "        feture = set(ls) \n",
    "        #计算该列的信息增益\n",
    "        temp = 0.0\n",
    "        if type(ls[0]) == type(\"a\"):#判断是否时离散的\n",
    "            for value in feture:\n",
    "                datatemp = split(data, i, value)\n",
    "                prob = len(datatemp) / float(len(data))\n",
    "                t, mm = information(datatemp)\n",
    "                temp += prob * t\n",
    "        else:\n",
    "            ls.sort()\n",
    "            min = float(\"inf\")\n",
    "            for j in range(len(ls) - 1):\n",
    "                part = (ls[j + 1] + ls[j]) / 2 #计算划分点\n",
    "                left = split2(data, i, part, 0)\n",
    "                right = split2(data, i, part, 1)\n",
    "                temp1, useless = information(left)\n",
    "                temp2, useless = information(right)\n",
    "                temp = len(left) / len(data) * temp1 + len(right) / len(data) * temp2\n",
    "                if temp < min:\n",
    "                    min = temp\n",
    "                    bestpartvalue = part\n",
    "            temp = min\n",
    "        infoGain = base - temp\n",
    "        #根据信息增益挑选 \n",
    "        if info[i] != 0:\n",
    "            if infoGain / info[i] >= best:\n",
    "                best = infoGain / info[i]\n",
    "                bestindex = i\n",
    "    return bestindex, bestpartvalue\n"
   ],
   "outputs": [],
   "execution_count": 12
  },
  {
   "cell_type": "markdown",
   "metadata": {},
   "source": "# $C4.5$"
  },
  {
   "cell_type": "code",
   "metadata": {
    "ExecuteTime": {
     "end_time": "2025-03-08T08:33:28.337282Z",
     "start_time": "2025-03-08T08:33:28.325889Z"
    }
   },
   "source": [
    "def classify2(data, labels):\n",
    "    typelist = [index[-1] for index in data] #取出分类\n",
    "    nothing, typecount = information(data) #计算出类别种类以及数量\n",
    "    if typecount == len(typelist): #一个类别\n",
    "        return typelist[0]\n",
    "    bestindex, part = chooseBestFeatureToSplit2(data)  # 最优划分属性\n",
    "    if bestindex == -1:\n",
    "        return \"是\"\n",
    "    if type([t[bestindex] for t in data][0]) == type(\"a\"):#判断是否时离散\n",
    "        bestlabel = labels[bestindex]\n",
    "        Tree = {bestlabel: {}}\n",
    "        temp = copy.copy(labels)\n",
    "        feature = [example[bestindex] for example in data]\n",
    "        del (temp[bestindex])  # 已经选择的特征不再参与分类，将该类别删除\n",
    "        unique = set(feature)  # 该属性所有可能取值，也就是节点的分支\n",
    "        for i in unique:  \n",
    "            s = temp[:] \n",
    "            Tree[bestlabel][i] = classify2(split(data, bestindex, i), s)\n",
    "    else: #连续的变量\n",
    "        bestlabel = labels[bestindex] + \"<\" + str(part)\n",
    "        Tree = {bestlabel: {}}\n",
    "        temp = labels[:]\n",
    "        del(temp[bestindex])\n",
    "        leftdata = split2(data, bestindex, part, 0)\n",
    "        Tree[bestlabel][\"是\"] = classify2(leftdata, temp)\n",
    "        rightdata = split2(data, bestindex, part, 1)\n",
    "        Tree[bestlabel][\"否\"] = classify2(rightdata, temp)\n",
    "    return Tree"
   ],
   "outputs": [],
   "execution_count": 17
  },
  {
   "cell_type": "code",
   "metadata": {
    "ExecuteTime": {
     "end_time": "2025-03-08T08:33:35.360806Z",
     "start_time": "2025-03-08T08:33:35.354290Z"
    }
   },
   "source": [
    "def run2(data, tree, labels):\n",
    "    firstStr = list(tree.keys())[0]  # 根节点\n",
    "    firstLabel = firstStr\n",
    "    t = str(firstStr).find('<') #是否是连续型\n",
    "    if t > -1:  # 是连续型的特征\n",
    "        firstLabel = str(firstStr)[ : t]\n",
    "    secondDict = tree[firstStr]\n",
    "    featIndex = labels.index(firstLabel)  # 属性\n",
    "    result = ''\n",
    "    for key in list(secondDict.keys()):  # 对每个分支循环\n",
    "        if type(data[featIndex]) == type(\"a\"):\n",
    "            if data[featIndex] == key:  # 测试样本进入某个分支\n",
    "                if type(secondDict[key]).__name__ == 'dict':  # 不是叶子节点，递归\n",
    "                    result = run2(data, secondDict[key], labels)\n",
    "                else:  # 是叶子返回\n",
    "                    result = secondDict[key]\n",
    "        else:\n",
    "            value = float(str(firstStr)[t + 1 : ])\n",
    "            if data[featIndex] <= value:\n",
    "                if type(secondDict['是']).__name__ == 'dict':  # 不是叶子节点，递归\n",
    "                    result = run2(data, secondDict['是'], labels)\n",
    "                else:  # 如果是叶子， 返回结果\n",
    "                    result = secondDict['是']\n",
    "            else:\n",
    "                if type(secondDict['否']).__name__ == 'dict':\n",
    "                    result = run2(data, secondDict['否'], labels)\n",
    "                else:  # 如果是叶子， 返回结果\n",
    "                    result = secondDict['否']\n",
    "    return result\n",
    "\n",
    "def getresult2(train, test, labels):\n",
    "    ls = []\n",
    "    tree = classify2(train, labels)\n",
    "    print(\"生成决策树如下:\", tree)\n",
    "    for index in test:\n",
    "        ls.append(run2(index, tree, labels))\n",
    "    return ls\n",
    "\n",
    "labels2 = [\"色泽\", \"根蒂\", \"敲声\", \"纹理\", \"密度\", \"好瓜\"]\n",
    "result2 = getresult2(train2, test2, labels2)"
   ],
   "outputs": [
    {
     "name": "stdout",
     "output_type": "stream",
     "text": [
      "生成决策树如下: {'纹理': {'稍糊': {'敲声': {'浊响': {'密度<0.56': {'是': '是', '否': '是'}}, '沉闷': {'密度<0.6615': {'是': '是', '否': {'根蒂': {'蜷缩': '是', '稍蜷': '是'}}}}}}, '清晰': {'根蒂': {'硬挺': '是', '蜷缩': {'密度<0.5820000000000001': {'是': '是', '否': {'敲声': {'浊响': {'色泽': {'乌黑': '是', '青绿': '是'}}, '沉闷': {'色泽': {'乌黑': '是', '青绿': '是'}}}}}}, '稍蜷': {'密度<0.3815': {'是': '是', '否': {'色泽': {'乌黑': '是', '青绿': '是'}}}}}}, '模糊': {'密度<0.29400000000000004': {'是': '是', '否': '是'}}}}\n"
     ]
    }
   ],
   "execution_count": 18
  },
  {
   "cell_type": "code",
   "metadata": {
    "ExecuteTime": {
     "end_time": "2025-03-08T08:49:34.819336Z",
     "start_time": "2025-03-08T08:49:34.812707Z"
    }
   },
   "source": "print(\"C4.5 accuracy：\", simrate(test2, result2))",
   "outputs": [
    {
     "name": "stdout",
     "output_type": "stream",
     "text": [
      "C4.5 accuracy： 60.00%\n"
     ]
    }
   ],
   "execution_count": 19
  }
 ],
 "metadata": {
  "interpreter": {
   "hash": "aee8b7b246df8f9039afb4144a1f6fd8d2ca17a180786b69acc140d282b71a49"
  },
  "kernelspec": {
   "display_name": "Python 3.8.5 64-bit",
   "language": "python",
   "name": "python3"
  },
  "language_info": {
   "codemirror_mode": {
    "name": "ipython",
    "version": 3
   },
   "file_extension": ".py",
   "mimetype": "text/x-python",
   "name": "python",
   "nbconvert_exporter": "python",
   "pygments_lexer": "ipython3",
   "version": "3.8.5"
  },
  "orig_nbformat": 4
 },
 "nbformat": 4,
 "nbformat_minor": 2
}
